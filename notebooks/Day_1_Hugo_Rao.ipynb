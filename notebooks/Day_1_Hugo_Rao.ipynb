{
 "cells": [
  {
   "cell_type": "markdown",
   "id": "9bc08ca1",
   "metadata": {},
   "source": [
    "***Disclaimer**: This notebook does not include lemmatizing - I forgot to include it originally and haven't updated it yet. Also it doesn't include grid search for sentiment analysis as other contributer has done this already*"
   ]
  },
  {
   "cell_type": "markdown",
   "id": "e2a1ec3f",
   "metadata": {},
   "source": [
    "# Day 1 - Hugo's Notebook"
   ]
  },
  {
   "cell_type": "markdown",
   "id": "880e7131",
   "metadata": {},
   "source": [
    "First thing is to load all the packages into this notebook :)"
   ]
  },
  {
   "cell_type": "code",
   "execution_count": 1,
   "id": "7a2eb65b",
   "metadata": {},
   "outputs": [],
   "source": [
    "import pandas as pd\n",
    "import numpy as np"
   ]
  },
  {
   "cell_type": "markdown",
   "id": "57ad8f5f",
   "metadata": {},
   "source": [
    "## Working with Preprocessed Data"
   ]
  },
  {
   "cell_type": "markdown",
   "id": "c7385c1a",
   "metadata": {},
   "source": [
    "The first step is to load the data into the notebook."
   ]
  },
  {
   "cell_type": "markdown",
   "id": "7601f5be",
   "metadata": {},
   "source": [
    "1. BIS Data"
   ]
  },
  {
   "cell_type": "code",
   "execution_count": 2,
   "id": "114d167e",
   "metadata": {},
   "outputs": [],
   "source": [
    "#Load the BIS Data\n",
    "bis_data = pd.read_csv('raw_data/Pre_Processed/Pre_Processed_BIS_Data.txt', header=0)"
   ]
  },
  {
   "cell_type": "code",
   "execution_count": 3,
   "id": "fb375bb7",
   "metadata": {},
   "outputs": [
    {
     "name": "stdout",
     "output_type": "stream",
     "text": [
      "BIS Data Preview:\n"
     ]
    },
    {
     "data": {
      "text/html": [
       "<div>\n",
       "<style scoped>\n",
       "    .dataframe tbody tr th:only-of-type {\n",
       "        vertical-align: middle;\n",
       "    }\n",
       "\n",
       "    .dataframe tbody tr th {\n",
       "        vertical-align: top;\n",
       "    }\n",
       "\n",
       "    .dataframe thead th {\n",
       "        text-align: right;\n",
       "    }\n",
       "</style>\n",
       "<table border=\"1\" class=\"dataframe\">\n",
       "  <thead>\n",
       "    <tr style=\"text-align: right;\">\n",
       "      <th></th>\n",
       "      <th>Unnamed: 0</th>\n",
       "      <th>Parsed_Text</th>\n",
       "      <th>Speaker</th>\n",
       "      <th>Date</th>\n",
       "      <th>Sentence_Rank</th>\n",
       "    </tr>\n",
       "  </thead>\n",
       "  <tbody>\n",
       "    <tr>\n",
       "      <th>0</th>\n",
       "      <td>0</td>\n",
       "      <td>id like to thank the conference organisers for...</td>\n",
       "      <td>Jan Frait</td>\n",
       "      <td>17 Mar 2023</td>\n",
       "      <td>0.0</td>\n",
       "    </tr>\n",
       "    <tr>\n",
       "      <th>1</th>\n",
       "      <td>1</td>\n",
       "      <td>the knowledge i gained from my discussions her...</td>\n",
       "      <td>Jan Frait</td>\n",
       "      <td>17 Mar 2023</td>\n",
       "      <td>1.0</td>\n",
       "    </tr>\n",
       "    <tr>\n",
       "      <th>2</th>\n",
       "      <td>2</td>\n",
       "      <td>at conferences central bankers these days tend...</td>\n",
       "      <td>Jan Frait</td>\n",
       "      <td>17 Mar 2023</td>\n",
       "      <td>2.0</td>\n",
       "    </tr>\n",
       "    <tr>\n",
       "      <th>3</th>\n",
       "      <td>3</td>\n",
       "      <td>but for this conference for the first time in ...</td>\n",
       "      <td>Jan Frait</td>\n",
       "      <td>17 Mar 2023</td>\n",
       "      <td>3.0</td>\n",
       "    </tr>\n",
       "    <tr>\n",
       "      <th>4</th>\n",
       "      <td>4</td>\n",
       "      <td>this will hopefully better enable me to convey...</td>\n",
       "      <td>Jan Frait</td>\n",
       "      <td>17 Mar 2023</td>\n",
       "      <td>4.0</td>\n",
       "    </tr>\n",
       "  </tbody>\n",
       "</table>\n",
       "</div>"
      ],
      "text/plain": [
       "   Unnamed: 0                                        Parsed_Text    Speaker  \\\n",
       "0           0  id like to thank the conference organisers for...  Jan Frait   \n",
       "1           1  the knowledge i gained from my discussions her...  Jan Frait   \n",
       "2           2  at conferences central bankers these days tend...  Jan Frait   \n",
       "3           3  but for this conference for the first time in ...  Jan Frait   \n",
       "4           4  this will hopefully better enable me to convey...  Jan Frait   \n",
       "\n",
       "          Date  Sentence_Rank  \n",
       "0  17 Mar 2023            0.0  \n",
       "1  17 Mar 2023            1.0  \n",
       "2  17 Mar 2023            2.0  \n",
       "3  17 Mar 2023            3.0  \n",
       "4  17 Mar 2023            4.0  "
      ]
     },
     "execution_count": 3,
     "metadata": {},
     "output_type": "execute_result"
    }
   ],
   "source": [
    "print(\"BIS Data Preview:\")\n",
    "bis_data.head()"
   ]
  },
  {
   "cell_type": "code",
   "execution_count": 4,
   "id": "7e06aa52",
   "metadata": {},
   "outputs": [
    {
     "data": {
      "text/html": [
       "<div>\n",
       "<style scoped>\n",
       "    .dataframe tbody tr th:only-of-type {\n",
       "        vertical-align: middle;\n",
       "    }\n",
       "\n",
       "    .dataframe tbody tr th {\n",
       "        vertical-align: top;\n",
       "    }\n",
       "\n",
       "    .dataframe thead th {\n",
       "        text-align: right;\n",
       "    }\n",
       "</style>\n",
       "<table border=\"1\" class=\"dataframe\">\n",
       "  <thead>\n",
       "    <tr style=\"text-align: right;\">\n",
       "      <th></th>\n",
       "      <th>Unnamed: 0</th>\n",
       "      <th>Parsed_Text</th>\n",
       "      <th>Speaker</th>\n",
       "      <th>Date</th>\n",
       "      <th>Sentence_Rank</th>\n",
       "    </tr>\n",
       "  </thead>\n",
       "  <tbody>\n",
       "    <tr>\n",
       "      <th>1677323</th>\n",
       "      <td>1677323</td>\n",
       "      <td>needless\\nto say that is just as true today an...</td>\n",
       "      <td>0</td>\n",
       "      <td>06 Jan 1997</td>\n",
       "      <td>119.0</td>\n",
       "    </tr>\n",
       "    <tr>\n",
       "      <th>1677324</th>\n",
       "      <td>1677324</td>\n",
       "      <td>but the fact that the bundesbank isattested a ...</td>\n",
       "      <td>0</td>\n",
       "      <td>06 Jan 1997</td>\n",
       "      <td>120.0</td>\n",
       "    </tr>\n",
       "    <tr>\n",
       "      <th>1677325</th>\n",
       "      <td>1677325</td>\n",
       "      <td>that verdict has been confirmed time and again...</td>\n",
       "      <td>0</td>\n",
       "      <td>06 Jan 1997</td>\n",
       "      <td>121.0</td>\n",
       "    </tr>\n",
       "    <tr>\n",
       "      <th>1677326</th>\n",
       "      <td>1677326</td>\n",
       "      <td>hence thebundesbank will also continue to feel...</td>\n",
       "      <td>0</td>\n",
       "      <td>06 Jan 1997</td>\n",
       "      <td>122.0</td>\n",
       "    </tr>\n",
       "    <tr>\n",
       "      <th>1677327</th>\n",
       "      <td>1677327</td>\n",
       "      <td>bis review   1411996</td>\n",
       "      <td>0</td>\n",
       "      <td>06 Jan 1997</td>\n",
       "      <td>123.0</td>\n",
       "    </tr>\n",
       "  </tbody>\n",
       "</table>\n",
       "</div>"
      ],
      "text/plain": [
       "         Unnamed: 0                                        Parsed_Text  \\\n",
       "1677323     1677323  needless\\nto say that is just as true today an...   \n",
       "1677324     1677324  but the fact that the bundesbank isattested a ...   \n",
       "1677325     1677325  that verdict has been confirmed time and again...   \n",
       "1677326     1677326  hence thebundesbank will also continue to feel...   \n",
       "1677327     1677327                               bis review   1411996   \n",
       "\n",
       "        Speaker         Date  Sentence_Rank  \n",
       "1677323       0  06 Jan 1997          119.0  \n",
       "1677324       0  06 Jan 1997          120.0  \n",
       "1677325       0  06 Jan 1997          121.0  \n",
       "1677326       0  06 Jan 1997          122.0  \n",
       "1677327       0  06 Jan 1997          123.0  "
      ]
     },
     "execution_count": 4,
     "metadata": {},
     "output_type": "execute_result"
    }
   ],
   "source": [
    "bis_data.tail()"
   ]
  },
  {
   "cell_type": "markdown",
   "id": "7c9b4622",
   "metadata": {},
   "source": [
    "2. ECB Data"
   ]
  },
  {
   "cell_type": "code",
   "execution_count": 5,
   "id": "1e77b41a",
   "metadata": {},
   "outputs": [],
   "source": [
    "# Load ECB Data\n",
    "ecb_data = pd.read_csv('raw_data/Pre_Processed/Pre_Processed_ECB_Data.txt', header=0)"
   ]
  },
  {
   "cell_type": "code",
   "execution_count": 6,
   "id": "068977a9",
   "metadata": {},
   "outputs": [
    {
     "name": "stdout",
     "output_type": "stream",
     "text": [
      "\n",
      "ECB Data Preview:\n"
     ]
    },
    {
     "data": {
      "text/html": [
       "<div>\n",
       "<style scoped>\n",
       "    .dataframe tbody tr th:only-of-type {\n",
       "        vertical-align: middle;\n",
       "    }\n",
       "\n",
       "    .dataframe tbody tr th {\n",
       "        vertical-align: top;\n",
       "    }\n",
       "\n",
       "    .dataframe thead th {\n",
       "        text-align: right;\n",
       "    }\n",
       "</style>\n",
       "<table border=\"1\" class=\"dataframe\">\n",
       "  <thead>\n",
       "    <tr style=\"text-align: right;\">\n",
       "      <th></th>\n",
       "      <th>Unnamed: 0</th>\n",
       "      <th>Parsed_Text</th>\n",
       "      <th>Speaker</th>\n",
       "      <th>Date</th>\n",
       "      <th>Sentence_Rank</th>\n",
       "    </tr>\n",
       "  </thead>\n",
       "  <tbody>\n",
       "    <tr>\n",
       "      <th>0</th>\n",
       "      <td>0</td>\n",
       "      <td>speech  the euro area hiking cycle an interi...</td>\n",
       "      <td>Philip R. Lane</td>\n",
       "      <td>2023-02-16</td>\n",
       "      <td>0.0</td>\n",
       "    </tr>\n",
       "    <tr>\n",
       "      <th>1</th>\n",
       "      <td>1</td>\n",
       "      <td>christopher dow had a distinguished career as ...</td>\n",
       "      <td>Philip R. Lane</td>\n",
       "      <td>2023-02-16</td>\n",
       "      <td>1.0</td>\n",
       "    </tr>\n",
       "    <tr>\n",
       "      <th>2</th>\n",
       "      <td>2</td>\n",
       "      <td>1 moreover he extensively analysed my topic to...</td>\n",
       "      <td>Philip R. Lane</td>\n",
       "      <td>2023-02-16</td>\n",
       "      <td>2.0</td>\n",
       "    </tr>\n",
       "    <tr>\n",
       "      <th>3</th>\n",
       "      <td>3</td>\n",
       "      <td>2 while the current inflation environment is q...</td>\n",
       "      <td>Philip R. Lane</td>\n",
       "      <td>2023-02-16</td>\n",
       "      <td>3.0</td>\n",
       "    </tr>\n",
       "    <tr>\n",
       "      <th>4</th>\n",
       "      <td>4</td>\n",
       "      <td>my aim today is to provide an interim analysis...</td>\n",
       "      <td>Philip R. Lane</td>\n",
       "      <td>2023-02-16</td>\n",
       "      <td>4.0</td>\n",
       "    </tr>\n",
       "  </tbody>\n",
       "</table>\n",
       "</div>"
      ],
      "text/plain": [
       "   Unnamed: 0                                        Parsed_Text  \\\n",
       "0           0    speech  the euro area hiking cycle an interi...   \n",
       "1           1  christopher dow had a distinguished career as ...   \n",
       "2           2  1 moreover he extensively analysed my topic to...   \n",
       "3           3  2 while the current inflation environment is q...   \n",
       "4           4  my aim today is to provide an interim analysis...   \n",
       "\n",
       "          Speaker        Date  Sentence_Rank  \n",
       "0  Philip R. Lane  2023-02-16            0.0  \n",
       "1  Philip R. Lane  2023-02-16            1.0  \n",
       "2  Philip R. Lane  2023-02-16            2.0  \n",
       "3  Philip R. Lane  2023-02-16            3.0  \n",
       "4  Philip R. Lane  2023-02-16            4.0  "
      ]
     },
     "execution_count": 6,
     "metadata": {},
     "output_type": "execute_result"
    }
   ],
   "source": [
    "print(\"\\nECB Data Preview:\")\n",
    "ecb_data.head()"
   ]
  },
  {
   "cell_type": "markdown",
   "id": "cd119c8d",
   "metadata": {},
   "source": [
    "3. FED Data"
   ]
  },
  {
   "cell_type": "code",
   "execution_count": 7,
   "id": "aa6e715d",
   "metadata": {},
   "outputs": [],
   "source": [
    "# Load FED Data\n",
    "fed_data = pd.read_csv('raw_data/Pre_Processed/Pre_Processed_FED_Data.txt', header=0, engine='python')"
   ]
  },
  {
   "cell_type": "code",
   "execution_count": 8,
   "id": "2a911bff",
   "metadata": {},
   "outputs": [
    {
     "name": "stdout",
     "output_type": "stream",
     "text": [
      "\n",
      "FED Data Preview:\n"
     ]
    },
    {
     "data": {
      "text/html": [
       "<div>\n",
       "<style scoped>\n",
       "    .dataframe tbody tr th:only-of-type {\n",
       "        vertical-align: middle;\n",
       "    }\n",
       "\n",
       "    .dataframe tbody tr th {\n",
       "        vertical-align: top;\n",
       "    }\n",
       "\n",
       "    .dataframe thead th {\n",
       "        text-align: right;\n",
       "    }\n",
       "</style>\n",
       "<table border=\"1\" class=\"dataframe\">\n",
       "  <thead>\n",
       "    <tr style=\"text-align: right;\">\n",
       "      <th></th>\n",
       "      <th>Unnamed: 0</th>\n",
       "      <th>Parsed_Text</th>\n",
       "      <th>Speaker</th>\n",
       "      <th>Date</th>\n",
       "      <th>Location</th>\n",
       "      <th>Doc_ID</th>\n",
       "      <th>Sentence_Rank</th>\n",
       "    </tr>\n",
       "  </thead>\n",
       "  <tbody>\n",
       "    <tr>\n",
       "      <th>0</th>\n",
       "      <td>0</td>\n",
       "      <td>for release on delivery900 am estapril 26 1986...</td>\n",
       "      <td>Johnson, Manuel H.</td>\n",
       "      <td>1986-04-26</td>\n",
       "      <td>Florida</td>\n",
       "      <td>1.0</td>\n",
       "      <td>0.0</td>\n",
       "    </tr>\n",
       "    <tr>\n",
       "      <th>1</th>\n",
       "      <td>1</td>\n",
       "      <td>april 26 1986 remarks by manuel h johnson memb...</td>\n",
       "      <td>Johnson, Manuel H.</td>\n",
       "      <td>1986-04-26</td>\n",
       "      <td>Florida</td>\n",
       "      <td>1.0</td>\n",
       "      <td>1.0</td>\n",
       "    </tr>\n",
       "    <tr>\n",
       "      <th>2</th>\n",
       "      <td>2</td>\n",
       "      <td>it is also an opportunity for graduates their ...</td>\n",
       "      <td>Johnson, Manuel H.</td>\n",
       "      <td>1986-04-26</td>\n",
       "      <td>Florida</td>\n",
       "      <td>1.0</td>\n",
       "      <td>2.0</td>\n",
       "    </tr>\n",
       "    <tr>\n",
       "      <th>3</th>\n",
       "      <td>3</td>\n",
       "      <td>if i may ifd like to take this opportunity off...</td>\n",
       "      <td>Johnson, Manuel H.</td>\n",
       "      <td>1986-04-26</td>\n",
       "      <td>Florida</td>\n",
       "      <td>1.0</td>\n",
       "      <td>3.0</td>\n",
       "    </tr>\n",
       "    <tr>\n",
       "      <th>4</th>\n",
       "      <td>4</td>\n",
       "      <td>when the freshman class entered college in the...</td>\n",
       "      <td>Johnson, Manuel H.</td>\n",
       "      <td>1986-04-26</td>\n",
       "      <td>Florida</td>\n",
       "      <td>1.0</td>\n",
       "      <td>4.0</td>\n",
       "    </tr>\n",
       "  </tbody>\n",
       "</table>\n",
       "</div>"
      ],
      "text/plain": [
       "  Unnamed: 0                                        Parsed_Text  \\\n",
       "0          0  for release on delivery900 am estapril 26 1986...   \n",
       "1          1  april 26 1986 remarks by manuel h johnson memb...   \n",
       "2          2  it is also an opportunity for graduates their ...   \n",
       "3          3  if i may ifd like to take this opportunity off...   \n",
       "4          4  when the freshman class entered college in the...   \n",
       "\n",
       "              Speaker        Date Location  Doc_ID  Sentence_Rank  \n",
       "0  Johnson, Manuel H.  1986-04-26  Florida     1.0            0.0  \n",
       "1  Johnson, Manuel H.  1986-04-26  Florida     1.0            1.0  \n",
       "2  Johnson, Manuel H.  1986-04-26  Florida     1.0            2.0  \n",
       "3  Johnson, Manuel H.  1986-04-26  Florida     1.0            3.0  \n",
       "4  Johnson, Manuel H.  1986-04-26  Florida     1.0            4.0  "
      ]
     },
     "execution_count": 8,
     "metadata": {},
     "output_type": "execute_result"
    }
   ],
   "source": [
    "print(\"\\nFED Data Preview:\")\n",
    "fed_data.head()"
   ]
  },
  {
   "cell_type": "markdown",
   "id": "e8ce56aa",
   "metadata": {},
   "source": [
    "## Working with Labelled Data"
   ]
  },
  {
   "cell_type": "markdown",
   "id": "6d7dafd0",
   "metadata": {},
   "source": [
    "### Audience Classified Data"
   ]
  },
  {
   "cell_type": "code",
   "execution_count": 9,
   "id": "b9a88436",
   "metadata": {},
   "outputs": [],
   "source": [
    "#Load the BIS Data\n",
    "bis_data_aud = pd.read_csv('raw_data/Labelled/Audiences/BIS_prelabelled.txt', header=0)"
   ]
  },
  {
   "cell_type": "code",
   "execution_count": 10,
   "id": "9544df0e",
   "metadata": {},
   "outputs": [
    {
     "data": {
      "text/html": [
       "<div>\n",
       "<style scoped>\n",
       "    .dataframe tbody tr th:only-of-type {\n",
       "        vertical-align: middle;\n",
       "    }\n",
       "\n",
       "    .dataframe tbody tr th {\n",
       "        vertical-align: top;\n",
       "    }\n",
       "\n",
       "    .dataframe thead th {\n",
       "        text-align: right;\n",
       "    }\n",
       "</style>\n",
       "<table border=\"1\" class=\"dataframe\">\n",
       "  <thead>\n",
       "    <tr style=\"text-align: right;\">\n",
       "      <th></th>\n",
       "      <th>Unnamed: 0</th>\n",
       "      <th>Parsed_Text</th>\n",
       "      <th>label</th>\n",
       "    </tr>\n",
       "  </thead>\n",
       "  <tbody>\n",
       "    <tr>\n",
       "      <th>0</th>\n",
       "      <td>0</td>\n",
       "      <td>the unemployment rate last year averaged just ...</td>\n",
       "      <td>0</td>\n",
       "    </tr>\n",
       "    <tr>\n",
       "      <th>1</th>\n",
       "      <td>1</td>\n",
       "      <td>in addition the end of extended unemployment i...</td>\n",
       "      <td>0</td>\n",
       "    </tr>\n",
       "    <tr>\n",
       "      <th>2</th>\n",
       "      <td>2</td>\n",
       "      <td>for persons with only a high school diploma bo...</td>\n",
       "      <td>0</td>\n",
       "    </tr>\n",
       "    <tr>\n",
       "      <th>3</th>\n",
       "      <td>3</td>\n",
       "      <td>but once the shortterm unemployed pool is depl...</td>\n",
       "      <td>0</td>\n",
       "    </tr>\n",
       "    <tr>\n",
       "      <th>4</th>\n",
       "      <td>4</td>\n",
       "      <td>this is almost the same level as the structura...</td>\n",
       "      <td>0</td>\n",
       "    </tr>\n",
       "  </tbody>\n",
       "</table>\n",
       "</div>"
      ],
      "text/plain": [
       "   Unnamed: 0                                        Parsed_Text  label\n",
       "0           0  the unemployment rate last year averaged just ...      0\n",
       "1           1  in addition the end of extended unemployment i...      0\n",
       "2           2  for persons with only a high school diploma bo...      0\n",
       "3           3  but once the shortterm unemployed pool is depl...      0\n",
       "4           4  this is almost the same level as the structura...      0"
      ]
     },
     "execution_count": 10,
     "metadata": {},
     "output_type": "execute_result"
    }
   ],
   "source": [
    "bis_data_aud.head()"
   ]
  },
  {
   "cell_type": "code",
   "execution_count": 11,
   "id": "28a0fc77",
   "metadata": {},
   "outputs": [],
   "source": [
    "#Load the ECR Data\n",
    "ecb_data_aud = pd.read_csv('raw_data/Labelled/Audiences/ECB_prelabelled.txt', header=0)"
   ]
  },
  {
   "cell_type": "code",
   "execution_count": 12,
   "id": "da1a9411",
   "metadata": {},
   "outputs": [
    {
     "data": {
      "text/html": [
       "<div>\n",
       "<style scoped>\n",
       "    .dataframe tbody tr th:only-of-type {\n",
       "        vertical-align: middle;\n",
       "    }\n",
       "\n",
       "    .dataframe tbody tr th {\n",
       "        vertical-align: top;\n",
       "    }\n",
       "\n",
       "    .dataframe thead th {\n",
       "        text-align: right;\n",
       "    }\n",
       "</style>\n",
       "<table border=\"1\" class=\"dataframe\">\n",
       "  <thead>\n",
       "    <tr style=\"text-align: right;\">\n",
       "      <th></th>\n",
       "      <th>Unnamed: 0</th>\n",
       "      <th>Parsed_Text</th>\n",
       "      <th>label</th>\n",
       "    </tr>\n",
       "  </thead>\n",
       "  <tbody>\n",
       "    <tr>\n",
       "      <th>0</th>\n",
       "      <td>0</td>\n",
       "      <td>strong labour markets  with the unemployment r...</td>\n",
       "      <td>0</td>\n",
       "    </tr>\n",
       "    <tr>\n",
       "      <th>1</th>\n",
       "      <td>1</td>\n",
       "      <td>ecb staff analyses find that while participati...</td>\n",
       "      <td>0</td>\n",
       "    </tr>\n",
       "    <tr>\n",
       "      <th>2</th>\n",
       "      <td>2</td>\n",
       "      <td>it found that households anticipate their real...</td>\n",
       "      <td>0</td>\n",
       "    </tr>\n",
       "    <tr>\n",
       "      <th>3</th>\n",
       "      <td>3</td>\n",
       "      <td>in march the euro area unemployment rate and t...</td>\n",
       "      <td>0</td>\n",
       "    </tr>\n",
       "    <tr>\n",
       "      <th>4</th>\n",
       "      <td>4</td>\n",
       "      <td>at an aggregate level the ongoing reduction in...</td>\n",
       "      <td>0</td>\n",
       "    </tr>\n",
       "  </tbody>\n",
       "</table>\n",
       "</div>"
      ],
      "text/plain": [
       "   Unnamed: 0                                        Parsed_Text  label\n",
       "0           0  strong labour markets  with the unemployment r...      0\n",
       "1           1  ecb staff analyses find that while participati...      0\n",
       "2           2  it found that households anticipate their real...      0\n",
       "3           3  in march the euro area unemployment rate and t...      0\n",
       "4           4  at an aggregate level the ongoing reduction in...      0"
      ]
     },
     "execution_count": 12,
     "metadata": {},
     "output_type": "execute_result"
    }
   ],
   "source": [
    "ecb_data_aud.head()"
   ]
  },
  {
   "cell_type": "code",
   "execution_count": 13,
   "id": "f439df3f",
   "metadata": {},
   "outputs": [],
   "source": [
    "#Load the FED Data\n",
    "fed_data_aud = pd.read_csv('raw_data/Labelled/Audiences/FED_prelabelled.txt', header=0, engine='python')"
   ]
  },
  {
   "cell_type": "code",
   "execution_count": 14,
   "id": "d4234d41",
   "metadata": {},
   "outputs": [
    {
     "data": {
      "text/html": [
       "<div>\n",
       "<style scoped>\n",
       "    .dataframe tbody tr th:only-of-type {\n",
       "        vertical-align: middle;\n",
       "    }\n",
       "\n",
       "    .dataframe tbody tr th {\n",
       "        vertical-align: top;\n",
       "    }\n",
       "\n",
       "    .dataframe thead th {\n",
       "        text-align: right;\n",
       "    }\n",
       "</style>\n",
       "<table border=\"1\" class=\"dataframe\">\n",
       "  <thead>\n",
       "    <tr style=\"text-align: right;\">\n",
       "      <th></th>\n",
       "      <th>Parsed_Text</th>\n",
       "      <th>label</th>\n",
       "    </tr>\n",
       "  </thead>\n",
       "  <tbody>\n",
       "    <tr>\n",
       "      <th>0</th>\n",
       "      <td>and the federal reserves commitment to price s...</td>\n",
       "      <td>4.0</td>\n",
       "    </tr>\n",
       "    <tr>\n",
       "      <th>1</th>\n",
       "      <td>i believe that your efforts and this constitut...</td>\n",
       "      <td>3.0</td>\n",
       "    </tr>\n",
       "    <tr>\n",
       "      <th>2</th>\n",
       "      <td>shortterm capital flowed from canada to the un...</td>\n",
       "      <td>3.0</td>\n",
       "    </tr>\n",
       "    <tr>\n",
       "      <th>3</th>\n",
       "      <td>given the explosive growth in telephone traffi...</td>\n",
       "      <td>0.0</td>\n",
       "    </tr>\n",
       "    <tr>\n",
       "      <th>4</th>\n",
       "      <td>that doesnt mean that the feds paperbased busi...</td>\n",
       "      <td>4.0</td>\n",
       "    </tr>\n",
       "  </tbody>\n",
       "</table>\n",
       "</div>"
      ],
      "text/plain": [
       "                                         Parsed_Text  label\n",
       "0  and the federal reserves commitment to price s...    4.0\n",
       "1  i believe that your efforts and this constitut...    3.0\n",
       "2  shortterm capital flowed from canada to the un...    3.0\n",
       "3  given the explosive growth in telephone traffi...    0.0\n",
       "4  that doesnt mean that the feds paperbased busi...    4.0"
      ]
     },
     "execution_count": 14,
     "metadata": {},
     "output_type": "execute_result"
    }
   ],
   "source": [
    "fed_data_aud.head()"
   ]
  },
  {
   "cell_type": "markdown",
   "id": "fd343f98",
   "metadata": {},
   "source": [
    "### Sentiment Classified Data"
   ]
  },
  {
   "cell_type": "code",
   "execution_count": 15,
   "id": "b9c12e06",
   "metadata": {},
   "outputs": [],
   "source": [
    "bis_data_sent = pd.read_csv('raw_data/Labelled/Sentiment/BIS_prelabelled_sent.txt', header=0)"
   ]
  },
  {
   "cell_type": "code",
   "execution_count": 16,
   "id": "d453cc9a",
   "metadata": {},
   "outputs": [
    {
     "data": {
      "text/html": [
       "<div>\n",
       "<style scoped>\n",
       "    .dataframe tbody tr th:only-of-type {\n",
       "        vertical-align: middle;\n",
       "    }\n",
       "\n",
       "    .dataframe tbody tr th {\n",
       "        vertical-align: top;\n",
       "    }\n",
       "\n",
       "    .dataframe thead th {\n",
       "        text-align: right;\n",
       "    }\n",
       "</style>\n",
       "<table border=\"1\" class=\"dataframe\">\n",
       "  <thead>\n",
       "    <tr style=\"text-align: right;\">\n",
       "      <th></th>\n",
       "      <th>text</th>\n",
       "      <th>sentiment</th>\n",
       "    </tr>\n",
       "  </thead>\n",
       "  <tbody>\n",
       "    <tr>\n",
       "      <th>0</th>\n",
       "      <td>this growth is expected to accelerate further ...</td>\n",
       "      <td>1</td>\n",
       "    </tr>\n",
       "    <tr>\n",
       "      <th>1</th>\n",
       "      <td>as integration increases national securities m...</td>\n",
       "      <td>1</td>\n",
       "    </tr>\n",
       "    <tr>\n",
       "      <th>2</th>\n",
       "      <td>improving skills provides a way to do this bec...</td>\n",
       "      <td>1</td>\n",
       "    </tr>\n",
       "    <tr>\n",
       "      <th>3</th>\n",
       "      <td>in fact the bank has for many years taken a br...</td>\n",
       "      <td>1</td>\n",
       "    </tr>\n",
       "    <tr>\n",
       "      <th>4</th>\n",
       "      <td>the sukuk market in particular has become an i...</td>\n",
       "      <td>1</td>\n",
       "    </tr>\n",
       "  </tbody>\n",
       "</table>\n",
       "</div>"
      ],
      "text/plain": [
       "                                                text  sentiment\n",
       "0  this growth is expected to accelerate further ...          1\n",
       "1  as integration increases national securities m...          1\n",
       "2  improving skills provides a way to do this bec...          1\n",
       "3  in fact the bank has for many years taken a br...          1\n",
       "4  the sukuk market in particular has become an i...          1"
      ]
     },
     "execution_count": 16,
     "metadata": {},
     "output_type": "execute_result"
    }
   ],
   "source": [
    "bis_data_sent.head()"
   ]
  },
  {
   "cell_type": "code",
   "execution_count": 17,
   "id": "df6917d6",
   "metadata": {},
   "outputs": [],
   "source": [
    "ecb_data_sent = pd.read_csv('raw_data/Labelled/Sentiment/ECB_prelabelled_sent.txt', header=0)"
   ]
  },
  {
   "cell_type": "code",
   "execution_count": 18,
   "id": "0acbe02f",
   "metadata": {},
   "outputs": [
    {
     "data": {
      "text/html": [
       "<div>\n",
       "<style scoped>\n",
       "    .dataframe tbody tr th:only-of-type {\n",
       "        vertical-align: middle;\n",
       "    }\n",
       "\n",
       "    .dataframe tbody tr th {\n",
       "        vertical-align: top;\n",
       "    }\n",
       "\n",
       "    .dataframe thead th {\n",
       "        text-align: right;\n",
       "    }\n",
       "</style>\n",
       "<table border=\"1\" class=\"dataframe\">\n",
       "  <thead>\n",
       "    <tr style=\"text-align: right;\">\n",
       "      <th></th>\n",
       "      <th>text</th>\n",
       "      <th>sentiment</th>\n",
       "    </tr>\n",
       "  </thead>\n",
       "  <tbody>\n",
       "    <tr>\n",
       "      <th>0</th>\n",
       "      <td>target2 is seen as a tool to promote the furth...</td>\n",
       "      <td>1</td>\n",
       "    </tr>\n",
       "    <tr>\n",
       "      <th>1</th>\n",
       "      <td>the slovak republic for example is now home to...</td>\n",
       "      <td>1</td>\n",
       "    </tr>\n",
       "    <tr>\n",
       "      <th>2</th>\n",
       "      <td>the earlier this happens the earlier economic ...</td>\n",
       "      <td>1</td>\n",
       "    </tr>\n",
       "    <tr>\n",
       "      <th>3</th>\n",
       "      <td>the bank has made essential contributions in k...</td>\n",
       "      <td>1</td>\n",
       "    </tr>\n",
       "    <tr>\n",
       "      <th>4</th>\n",
       "      <td>moreover the economic size and welldeveloped f...</td>\n",
       "      <td>1</td>\n",
       "    </tr>\n",
       "  </tbody>\n",
       "</table>\n",
       "</div>"
      ],
      "text/plain": [
       "                                                text  sentiment\n",
       "0  target2 is seen as a tool to promote the furth...          1\n",
       "1  the slovak republic for example is now home to...          1\n",
       "2  the earlier this happens the earlier economic ...          1\n",
       "3  the bank has made essential contributions in k...          1\n",
       "4  moreover the economic size and welldeveloped f...          1"
      ]
     },
     "execution_count": 18,
     "metadata": {},
     "output_type": "execute_result"
    }
   ],
   "source": [
    "ecb_data_sent.head()"
   ]
  },
  {
   "cell_type": "code",
   "execution_count": 19,
   "id": "c0f87d5d",
   "metadata": {},
   "outputs": [],
   "source": [
    "fed_data_sent = pd.read_csv('raw_data/Labelled/Sentiment/FED_prelabelled_sent.txt', header=0)\n",
    "fed_data_sent = fed_data_sent.drop('audience', axis=1)"
   ]
  },
  {
   "cell_type": "code",
   "execution_count": 20,
   "id": "20f9061f",
   "metadata": {},
   "outputs": [
    {
     "data": {
      "text/html": [
       "<div>\n",
       "<style scoped>\n",
       "    .dataframe tbody tr th:only-of-type {\n",
       "        vertical-align: middle;\n",
       "    }\n",
       "\n",
       "    .dataframe tbody tr th {\n",
       "        vertical-align: top;\n",
       "    }\n",
       "\n",
       "    .dataframe thead th {\n",
       "        text-align: right;\n",
       "    }\n",
       "</style>\n",
       "<table border=\"1\" class=\"dataframe\">\n",
       "  <thead>\n",
       "    <tr style=\"text-align: right;\">\n",
       "      <th></th>\n",
       "      <th>text</th>\n",
       "      <th>sentiment</th>\n",
       "    </tr>\n",
       "  </thead>\n",
       "  <tbody>\n",
       "    <tr>\n",
       "      <th>0</th>\n",
       "      <td>governmental policy including that of the fede...</td>\n",
       "      <td>0</td>\n",
       "    </tr>\n",
       "    <tr>\n",
       "      <th>1</th>\n",
       "      <td>in light of the difficulties and uncertainties...</td>\n",
       "      <td>0</td>\n",
       "    </tr>\n",
       "    <tr>\n",
       "      <th>2</th>\n",
       "      <td>this means keeping the federal funds rate at i...</td>\n",
       "      <td>1</td>\n",
       "    </tr>\n",
       "    <tr>\n",
       "      <th>3</th>\n",
       "      <td>any decision to move in this direction therefo...</td>\n",
       "      <td>1</td>\n",
       "    </tr>\n",
       "    <tr>\n",
       "      <th>4</th>\n",
       "      <td>6the developments in the payments area are par...</td>\n",
       "      <td>0</td>\n",
       "    </tr>\n",
       "  </tbody>\n",
       "</table>\n",
       "</div>"
      ],
      "text/plain": [
       "                                                text  sentiment\n",
       "0  governmental policy including that of the fede...          0\n",
       "1  in light of the difficulties and uncertainties...          0\n",
       "2  this means keeping the federal funds rate at i...          1\n",
       "3  any decision to move in this direction therefo...          1\n",
       "4  6the developments in the payments area are par...          0"
      ]
     },
     "execution_count": 20,
     "metadata": {},
     "output_type": "execute_result"
    }
   ],
   "source": [
    "fed_data_sent.head()"
   ]
  },
  {
   "cell_type": "markdown",
   "id": "a762365f",
   "metadata": {},
   "source": [
    "## Sentiment Classification"
   ]
  },
  {
   "cell_type": "markdown",
   "id": "c48e7f72",
   "metadata": {},
   "source": [
    "Importing necessary libraries for ML"
   ]
  },
  {
   "cell_type": "code",
   "execution_count": 21,
   "id": "711517d0",
   "metadata": {},
   "outputs": [],
   "source": [
    "import matplotlib.pyplot as plt\n",
    "import seaborn as sns\n",
    "from sklearn.model_selection import train_test_split"
   ]
  },
  {
   "cell_type": "code",
   "execution_count": 29,
   "id": "73941dad",
   "metadata": {},
   "outputs": [
    {
     "data": {
      "text/html": [
       "<div>\n",
       "<style scoped>\n",
       "    .dataframe tbody tr th:only-of-type {\n",
       "        vertical-align: middle;\n",
       "    }\n",
       "\n",
       "    .dataframe tbody tr th {\n",
       "        vertical-align: top;\n",
       "    }\n",
       "\n",
       "    .dataframe thead th {\n",
       "        text-align: right;\n",
       "    }\n",
       "</style>\n",
       "<table border=\"1\" class=\"dataframe\">\n",
       "  <thead>\n",
       "    <tr style=\"text-align: right;\">\n",
       "      <th></th>\n",
       "      <th>text</th>\n",
       "      <th>sentiment</th>\n",
       "    </tr>\n",
       "  </thead>\n",
       "  <tbody>\n",
       "    <tr>\n",
       "      <th>0</th>\n",
       "      <td>governmental policy including that of the fede...</td>\n",
       "      <td>0</td>\n",
       "    </tr>\n",
       "    <tr>\n",
       "      <th>1</th>\n",
       "      <td>in light of the difficulties and uncertainties...</td>\n",
       "      <td>0</td>\n",
       "    </tr>\n",
       "    <tr>\n",
       "      <th>2</th>\n",
       "      <td>this means keeping the federal funds rate at i...</td>\n",
       "      <td>1</td>\n",
       "    </tr>\n",
       "    <tr>\n",
       "      <th>3</th>\n",
       "      <td>any decision to move in this direction therefo...</td>\n",
       "      <td>1</td>\n",
       "    </tr>\n",
       "    <tr>\n",
       "      <th>4</th>\n",
       "      <td>6the developments in the payments area are par...</td>\n",
       "      <td>0</td>\n",
       "    </tr>\n",
       "  </tbody>\n",
       "</table>\n",
       "</div>"
      ],
      "text/plain": [
       "                                                text  sentiment\n",
       "0  governmental policy including that of the fede...          0\n",
       "1  in light of the difficulties and uncertainties...          0\n",
       "2  this means keeping the federal funds rate at i...          1\n",
       "3  any decision to move in this direction therefo...          1\n",
       "4  6the developments in the payments area are par...          0"
      ]
     },
     "execution_count": 29,
     "metadata": {},
     "output_type": "execute_result"
    }
   ],
   "source": [
    "# Merging the audience dataframes\n",
    "sentiment_data = pd.concat([fed_data_sent, ecb_data_sent, bis_data_sent])\n",
    "sentiment_data = sentiment_data.reset_index(drop=True)\n",
    "sentiment_data.head()"
   ]
  },
  {
   "cell_type": "code",
   "execution_count": 129,
   "id": "7e82ad73",
   "metadata": {},
   "outputs": [],
   "source": [
    "# Defining X and y\n",
    "X = sentiment_data['text']\n",
    "y = sentiment_data['sentiment']"
   ]
  },
  {
   "cell_type": "code",
   "execution_count": 134,
   "id": "3d138135",
   "metadata": {},
   "outputs": [],
   "source": [
    "# Load the stopwords from NLTK\n",
    "stop_words = set(stopwords.words('english'))"
   ]
  },
  {
   "cell_type": "code",
   "execution_count": 136,
   "id": "37fbf9dc",
   "metadata": {},
   "outputs": [],
   "source": [
    "# Training and test split with stratification\n",
    "X_train, X_test, y_train, y_test = train_test_split(X, y, test_size=0.2, random_state=69, stratify=y)"
   ]
  },
  {
   "cell_type": "markdown",
   "id": "9d7f1d3f",
   "metadata": {},
   "source": [
    "### Naive Bayes"
   ]
  },
  {
   "cell_type": "code",
   "execution_count": 90,
   "id": "2fcdbf99",
   "metadata": {},
   "outputs": [],
   "source": [
    "from sklearn.model_selection import cross_validate\n",
    "from sklearn.pipeline import make_pipeline\n",
    "from sklearn.feature_extraction.text import TfidfVectorizer\n",
    "from sklearn.naive_bayes import MultinomialNB\n",
    "from sklearn.metrics import recall_score\n",
    "from sklearn.pipeline import make_pipeline\n",
    "from sklearn.model_selection import cross_validate"
   ]
  },
  {
   "cell_type": "markdown",
   "id": "dab7f928",
   "metadata": {},
   "source": [
    "Sergio ran a grid search resulting with best params:Best Naive Bayes Parameters: {'alpha': 0.5}"
   ]
  },
  {
   "cell_type": "code",
   "execution_count": 142,
   "id": "9b702af1",
   "metadata": {},
   "outputs": [],
   "source": [
    "nb_pipeline = make_pipeline(\n",
    "    TfidfVectorizer(),\n",
    "    MultinomialNB(alpha=0.5)\n",
    "    )"
   ]
  },
  {
   "cell_type": "code",
   "execution_count": 92,
   "id": "7ac5b06e",
   "metadata": {},
   "outputs": [],
   "source": [
    "nb_cv_results = cross_validate(nb_pipeline, X_train, y_train, cv=5, scoring = ['average_precision'])"
   ]
  },
  {
   "cell_type": "code",
   "execution_count": 93,
   "id": "0eeb8dc1",
   "metadata": {},
   "outputs": [
    {
     "name": "stdout",
     "output_type": "stream",
     "text": [
      "Avg Precision Naive Bayes: 0.9\n"
     ]
    }
   ],
   "source": [
    "nb_cv_ap = np.round(nb_cv_results[\"test_average_precision\"].mean(),2)\n",
    "print(f'Avg Precision Naive Bayes: {nb_cv_ap}')"
   ]
  },
  {
   "cell_type": "code",
   "execution_count": 94,
   "id": "66c9de06",
   "metadata": {},
   "outputs": [],
   "source": [
    "nb_pipeline.fit(X_train, y_train)\n",
    "y_pred = nb_pipeline.predict(X_test)"
   ]
  },
  {
   "cell_type": "code",
   "execution_count": 149,
   "id": "1ce57f1e",
   "metadata": {},
   "outputs": [
    {
     "name": "stdout",
     "output_type": "stream",
     "text": [
      "Accuracy: 0.84\n",
      "Precision: 0.84\n",
      "Recall: 0.84\n",
      "F1 Score: 0.83\n"
     ]
    }
   ],
   "source": [
    "from sklearn.metrics import accuracy_score, precision_score, recall_score, f1_score\n",
    "\n",
    "# Calculate accuracy, precision, recall, and F1-score\n",
    "nb_accuracy = accuracy_score(y_test, y_pred)\n",
    "nb_precision = precision_score(y_test, y_pred, average='weighted')\n",
    "nb_recall = recall_score(y_test, y_pred, average='weighted')\n",
    "nb_f1 = f1_score(y_test, y_pred, average='weighted')\n",
    "\n",
    "print(f\"Accuracy: {nb_accuracy:.2f}\")\n",
    "print(f\"Precision: {nb_precision:.2f}\")\n",
    "print(f\"Recall: {nb_recall:.2f}\")\n",
    "print(f\"F1 Score: {nb_f1:.2f}\")"
   ]
  },
  {
   "cell_type": "code",
   "execution_count": 96,
   "id": "f114cb0b",
   "metadata": {},
   "outputs": [
    {
     "data": {
      "image/png": "[encoded data removed]",
      "text/plain": [
       "<Figure size 640x480 with 2 Axes>"
      ]
     },
     "metadata": {},
     "output_type": "display_data"
    }
   ],
   "source": [
    "from sklearn.metrics import confusion_matrix, ConfusionMatrixDisplay\n",
    "\n",
    "# Compute the confusion matrix\n",
    "conf_matrix = confusion_matrix(y_test, y_pred)\n",
    "\n",
    "# Display the confusion matrix\n",
    "disp = ConfusionMatrixDisplay(confusion_matrix=conf_matrix, display_labels=nb_pipeline.classes_)\n",
    "disp.plot(cmap=plt.cm.Blues)\n",
    "plt.show()\n",
    "\n",
    "##CLASSIFICATION REPORT"
   ]
  },
  {
   "cell_type": "markdown",
   "id": "f93f6359",
   "metadata": {},
   "source": [
    "### Random Forest"
   ]
  },
  {
   "cell_type": "code",
   "execution_count": 110,
   "id": "98a30c94",
   "metadata": {},
   "outputs": [],
   "source": [
    "from sklearn.ensemble import RandomForestClassifier\n",
    "from sklearn.metrics import accuracy_score, precision_score, recall_score, f1_score, confusion_matrix, ConfusionMatrixDisplay\n",
    "from sklearn.pipeline import make_pipeline\n",
    "from sklearn.feature_extraction.text import TfidfVectorizer\n",
    "from sklearn.model_selection import cross_validate\n",
    "import matplotlib.pyplot as plt\n",
    "import numpy as np"
   ]
  },
  {
   "cell_type": "markdown",
   "id": "2e5fdb41",
   "metadata": {},
   "source": [
    "Sergio ran a grid search resulting with best params: Best Random Forest Parameters: {'max_depth': None, 'min_samples_split': 5, 'n_estimators': 300}"
   ]
  },
  {
   "cell_type": "code",
   "execution_count": 143,
   "id": "da74c714",
   "metadata": {},
   "outputs": [],
   "source": [
    "# Define the Random Forest pipeline\n",
    "rf_pipeline = make_pipeline(\n",
    "    TfidfVectorizer(),\n",
    "    RandomForestClassifier(max_depth=None, min_samples_split=5, n_estimators=300)\n",
    ")"
   ]
  },
  {
   "cell_type": "code",
   "execution_count": 112,
   "id": "c752579d",
   "metadata": {},
   "outputs": [],
   "source": [
    "# Cross-validation\n",
    "rf_cv_results = cross_validate(rf_pipeline, X_train, y_train, cv=5, scoring=['average_precision'])"
   ]
  },
  {
   "cell_type": "code",
   "execution_count": 113,
   "id": "2df2ae7a",
   "metadata": {},
   "outputs": [
    {
     "name": "stdout",
     "output_type": "stream",
     "text": [
      "Avg Precision Random Forest: 0.85\n"
     ]
    }
   ],
   "source": [
    "# Average precision\n",
    "rf_cv_ap = np.round(rf_cv_results[\"test_average_precision\"].mean(), 2)\n",
    "print(f'Avg Precision Random Forest: {rf_cv_ap}')"
   ]
  },
  {
   "cell_type": "code",
   "execution_count": 114,
   "id": "a2d1944d",
   "metadata": {},
   "outputs": [],
   "source": [
    "# Fit the model\n",
    "rf_pipeline.fit(X_train, y_train)\n",
    "y_pred = rf_pipeline.predict(X_test)"
   ]
  },
  {
   "cell_type": "code",
   "execution_count": 148,
   "id": "afdac490",
   "metadata": {},
   "outputs": [
    {
     "name": "stdout",
     "output_type": "stream",
     "text": [
      "Accuracy: 0.84\n",
      "Precision: 0.84\n",
      "Recall: 0.84\n",
      "F1 Score: 0.83\n"
     ]
    }
   ],
   "source": [
    "# Calculate accuracy, precision, recall, and F1-score\n",
    "rf_accuracy = accuracy_score(y_test, y_pred)\n",
    "rf_precision = precision_score(y_test, y_pred, average='weighted')\n",
    "rf_recall = recall_score(y_test, y_pred, average='weighted')\n",
    "rf_f1 = f1_score(y_test, y_pred, average='weighted')\n",
    "\n",
    "print(f\"Accuracy: {rf_accuracy:.2f}\")\n",
    "print(f\"Precision: {rf_precision:.2f}\")\n",
    "print(f\"Recall: {rf_recall:.2f}\")\n",
    "print(f\"F1 Score: {rf_f1:.2f}\")"
   ]
  },
  {
   "cell_type": "code",
   "execution_count": 117,
   "id": "fce59e6d",
   "metadata": {},
   "outputs": [
    {
     "data": {
      "image/png": "[encoded data removed]",
      "text/plain": [
       "<Figure size 640x480 with 2 Axes>"
      ]
     },
     "metadata": {},
     "output_type": "display_data"
    }
   ],
   "source": [
    "# Compute the confusion matrix\n",
    "conf_matrix = confusion_matrix(y_test, y_pred)\n",
    "\n",
    "# Display the confusion matrix\n",
    "disp = ConfusionMatrixDisplay(confusion_matrix=conf_matrix, display_labels=rf_pipeline.classes_)\n",
    "disp.plot(cmap=plt.cm.Blues)\n",
    "plt.show()"
   ]
  },
  {
   "cell_type": "markdown",
   "id": "c3e38b70",
   "metadata": {},
   "source": [
    "### Support Vector Machine"
   ]
  },
  {
   "cell_type": "code",
   "execution_count": 118,
   "id": "86b1d4ae",
   "metadata": {},
   "outputs": [],
   "source": [
    "from sklearn.svm import SVC"
   ]
  },
  {
   "cell_type": "markdown",
   "id": "f57d8f05",
   "metadata": {},
   "source": [
    "Sergio ran a grid search resulting with best params: Best SVM Parameters: {'C': 10, 'gamma': 'scale', 'kernel': 'rbf'}"
   ]
  },
  {
   "cell_type": "code",
   "execution_count": 141,
   "id": "a94758c8",
   "metadata": {},
   "outputs": [],
   "source": [
    "# Define the SVM pipeline\n",
    "svm_pipeline = make_pipeline(\n",
    "    TfidfVectorizer(),\n",
    "    SVC(probability=True, C=10, gamma='scale', kernel='rbf')\n",
    ")"
   ]
  },
  {
   "cell_type": "code",
   "execution_count": 120,
   "id": "8842f411",
   "metadata": {},
   "outputs": [
    {
     "name": "stdout",
     "output_type": "stream",
     "text": [
      "Avg Precision SVM: 0.89\n"
     ]
    }
   ],
   "source": [
    "# Cross-validation\n",
    "svm_cv_results = cross_validate(svm_pipeline, X_train, y_train, cv=5, scoring=['average_precision'])\n",
    "\n",
    "# Average precision\n",
    "svm_cv_ap = np.round(svm_cv_results[\"test_average_precision\"].mean(), 2)\n",
    "print(f'Avg Precision SVM: {svm_cv_ap}')"
   ]
  },
  {
   "cell_type": "code",
   "execution_count": 121,
   "id": "ee0fe1b3",
   "metadata": {},
   "outputs": [],
   "source": [
    "# Fit the model\n",
    "svm_pipeline.fit(X_train, y_train)\n",
    "y_pred = svm_pipeline.predict(X_test)"
   ]
  },
  {
   "cell_type": "code",
   "execution_count": 150,
   "id": "71d872f8",
   "metadata": {},
   "outputs": [
    {
     "name": "stdout",
     "output_type": "stream",
     "text": [
      "Accuracy: 0.84\n",
      "Precision: 0.84\n",
      "Recall: 0.84\n",
      "F1 Score: 0.83\n"
     ]
    }
   ],
   "source": [
    "# Calculate accuracy, precision, recall, and F1-score\n",
    "svm_accuracy = accuracy_score(y_test, y_pred)\n",
    "svm_precision = precision_score(y_test, y_pred, average='weighted')\n",
    "svm_recall = recall_score(y_test, y_pred, average='weighted')\n",
    "svm_f1 = f1_score(y_test, y_pred, average='weighted')\n",
    "\n",
    "print(f\"Accuracy: {svm_accuracy:.2f}\")\n",
    "print(f\"Precision: {svm_precision:.2f}\")\n",
    "print(f\"Recall: {svm_recall:.2f}\")\n",
    "print(f\"F1 Score: {svm_f1:.2f}\")"
   ]
  },
  {
   "cell_type": "markdown",
   "id": "d279469b",
   "metadata": {},
   "source": [
    "### Comparison Table"
   ]
  },
  {
   "cell_type": "code",
   "execution_count": 152,
   "id": "3ac5dc79",
   "metadata": {},
   "outputs": [
    {
     "data": {
      "text/html": [
       "<div>\n",
       "<style scoped>\n",
       "    .dataframe tbody tr th:only-of-type {\n",
       "        vertical-align: middle;\n",
       "    }\n",
       "\n",
       "    .dataframe tbody tr th {\n",
       "        vertical-align: top;\n",
       "    }\n",
       "\n",
       "    .dataframe thead th {\n",
       "        text-align: right;\n",
       "    }\n",
       "</style>\n",
       "<table border=\"1\" class=\"dataframe\">\n",
       "  <thead>\n",
       "    <tr style=\"text-align: right;\">\n",
       "      <th></th>\n",
       "      <th>Model</th>\n",
       "      <th>Precision</th>\n",
       "      <th>Recall</th>\n",
       "      <th>F1</th>\n",
       "    </tr>\n",
       "  </thead>\n",
       "  <tbody>\n",
       "    <tr>\n",
       "      <th>0</th>\n",
       "      <td>SVM</td>\n",
       "      <td>0.838751</td>\n",
       "      <td>0.836553</td>\n",
       "      <td>0.834371</td>\n",
       "    </tr>\n",
       "    <tr>\n",
       "      <th>1</th>\n",
       "      <td>RF</td>\n",
       "      <td>0.838751</td>\n",
       "      <td>0.836553</td>\n",
       "      <td>0.834371</td>\n",
       "    </tr>\n",
       "    <tr>\n",
       "      <th>2</th>\n",
       "      <td>NB</td>\n",
       "      <td>0.838751</td>\n",
       "      <td>0.836553</td>\n",
       "      <td>0.834371</td>\n",
       "    </tr>\n",
       "  </tbody>\n",
       "</table>\n",
       "</div>"
      ],
      "text/plain": [
       "  Model  Precision    Recall        F1\n",
       "0   SVM   0.838751  0.836553  0.834371\n",
       "1    RF   0.838751  0.836553  0.834371\n",
       "2    NB   0.838751  0.836553  0.834371"
      ]
     },
     "execution_count": 152,
     "metadata": {},
     "output_type": "execute_result"
    }
   ],
   "source": [
    "data = {\n",
    "    'Model': ['SVM', 'RF', 'NB'],\n",
    "    'Precision': [svm_precision, rf_precision, nb_precision],\n",
    "    'Recall': [svm_recall, rf_recall, nb_recall],\n",
    "    'F1': [svm_f1, rf_f1, nb_f1]\n",
    "}\n",
    "\n",
    "# Convert the dictionary to a DataFrame\n",
    "sent_results_table = pd.DataFrame(data)\n",
    "sent_results_table"
   ]
  },
  {
   "cell_type": "markdown",
   "id": "b75f330d",
   "metadata": {},
   "source": [
    "## Agent Classification"
   ]
  },
  {
   "cell_type": "markdown",
   "id": "9478a29b",
   "metadata": {},
   "source": [
    "### Multiclass Precision Metric"
   ]
  },
  {
   "cell_type": "code",
   "execution_count": 182,
   "id": "726111f1",
   "metadata": {},
   "outputs": [],
   "source": [
    "from sklearn.metrics import precision_score, recall_score, f1_score\n",
    "\n",
    "def multiclass_precision(y_true, y_pred):\n",
    "    # Calculate precision for all classes\n",
    "    precisions = precision_score(y_true, y_pred, average=None, zero_division=0)\n",
    "    \n",
    "    # Convert the precision scores to a list\n",
    "    return precisions.tolist()\n",
    "\n",
    "def multiclass_recall(y_true, y_pred):\n",
    "    # Calculate recall for all classes\n",
    "    recalls = recall_score(y_true, y_pred, average=None, zero_division=0)\n",
    "    \n",
    "    # Convert the recall scores to a list\n",
    "    return recalls.tolist()"
   ]
  },
  {
   "cell_type": "markdown",
   "id": "b5aabe6a",
   "metadata": {},
   "source": [
    "### Preparing the Data"
   ]
  },
  {
   "cell_type": "code",
   "execution_count": 183,
   "id": "1a6f6211",
   "metadata": {},
   "outputs": [
    {
     "name": "stderr",
     "output_type": "stream",
     "text": [
      "[nltk_data] Downloading package stopwords to /home/hugo/nltk_data...\n",
      "[nltk_data]   Package stopwords is already up-to-date!\n"
     ]
    }
   ],
   "source": [
    "# Download NLTK stopwords if not already downloaded\n",
    "nltk.download('stopwords')\n",
    "\n",
    "# Load the stopwords\n",
    "stop_words = set(stopwords.words('english'))\n",
    "\n",
    "# Merging the agent dataframes\n",
    "agent_data = pd.concat([bis_data_aud, fed_data_aud, ecb_data_aud])\n",
    "agent_data = agent_data.reset_index(drop=True)\n",
    "agent_data = agent_data.drop(columns=['Unnamed: 0'])\n",
    "agent_data = agent_data.dropna()"
   ]
  },
  {
   "cell_type": "code",
   "execution_count": 184,
   "id": "ea88aa75",
   "metadata": {},
   "outputs": [],
   "source": [
    "# Defining X and y\n",
    "X = agent_data['Parsed_Text']\n",
    "y = agent_data['label']\n",
    "\n",
    "# Training and test split with stratification\n",
    "X_train, X_test, y_train, y_test = train_test_split(X, y, test_size=0.2, random_state=69, stratify=y)"
   ]
  },
  {
   "cell_type": "markdown",
   "id": "b60fa331",
   "metadata": {},
   "source": [
    "### Naive Bayes"
   ]
  },
  {
   "cell_type": "code",
   "execution_count": 185,
   "id": "749d394a",
   "metadata": {},
   "outputs": [],
   "source": [
    "from sklearn.model_selection import train_test_split, GridSearchCV"
   ]
  },
  {
   "cell_type": "code",
   "execution_count": 186,
   "id": "a3b1c29c",
   "metadata": {},
   "outputs": [],
   "source": [
    "# 1.3.2 Naive Bayes with Grid Search\n",
    "nb_pipeline = make_pipeline(\n",
    "    TfidfVectorizer(),\n",
    "    MultinomialNB()\n",
    ")"
   ]
  },
  {
   "cell_type": "code",
   "execution_count": 187,
   "id": "39902457",
   "metadata": {},
   "outputs": [],
   "source": [
    "nb_param_grid = {\n",
    "    'multinomialnb__alpha': [0.1, 0.5, 1.0]\n",
    "}\n",
    "nb_grid_search = GridSearchCV(nb_pipeline, nb_param_grid, cv=5, scoring='accuracy')\n",
    "nb_grid_search.fit(X_train, y_train)\n",
    "y_pred_nb = nb_grid_search.predict(X_test)"
   ]
  },
  {
   "cell_type": "code",
   "execution_count": 188,
   "id": "eb092a75",
   "metadata": {},
   "outputs": [
    {
     "name": "stdout",
     "output_type": "stream",
     "text": [
      "Accuracy: 0.8545816733067729\n",
      "Precision: [0.8493975903614458, 0.8946078431372549, 0.810981098109811, 0.9357541899441341, 0.8683651804670913]\n",
      "Recall: [0.8481203007518797, 0.7849462365591398, 0.9375650364203955, 0.7808857808857809, 0.8313008130081301]\n"
     ]
    }
   ],
   "source": [
    "nb_precision = multiclass_precision(y_test, y_pred_nb)\n",
    "nb_recall = multiclass_recall(y_test, y_pred_nb)\n",
    "nb_f1 = multiclass_f1(y_test, y_pred_nb)\n",
    "nb_accuracy = accuracy_score(y_test, y_pred_nb)\n",
    "\n",
    "print(f\"Accuracy: {nb_accuracy}\")\n",
    "print(f\"Precision: {nb_precision}\")\n",
    "print(f\"Recall: {nb_recall}\")"
   ]
  },
  {
   "cell_type": "markdown",
   "id": "d6d4bef9",
   "metadata": {},
   "source": [
    "### SVM"
   ]
  },
  {
   "cell_type": "code",
   "execution_count": 191,
   "id": "12db7a4f",
   "metadata": {},
   "outputs": [
    {
     "name": "stdout",
     "output_type": "stream",
     "text": [
      "SVM Accuracy: 0.9096945551128818\n",
      "SVM Precision: [0.9046898638426626, 0.8934782608695652, 0.8881453154875717, 0.9761904761904762, 0.9271948608137045]\n",
      "SVM Recall: [0.8992481203007519, 0.8838709677419355, 0.9667013527575442, 0.8601398601398601, 0.8800813008130082]\n",
      "SVM F1 Score: None\n"
     ]
    }
   ],
   "source": [
    "from sklearn.svm import SVC\n",
    "\n",
    "# Define the SVM pipeline\n",
    "svm_pipeline = make_pipeline(\n",
    "    TfidfVectorizer(),\n",
    "    SVC(probability=True)\n",
    ")\n",
    "\n",
    "# Define the parameter grid for Grid Search\n",
    "svm_param_grid = {\n",
    "    'svc__C': [0.1, 1, 10],\n",
    "    'svc__gamma': ['scale', 'auto'],\n",
    "    'svc__kernel': ['linear', 'rbf']\n",
    "}\n",
    "\n",
    "# Perform Grid Search with cross-validation\n",
    "svm_grid_search = GridSearchCV(svm_pipeline, svm_param_grid, cv=5, scoring='accuracy')\n",
    "svm_grid_search.fit(X_train, y_train)\n",
    "\n",
    "# Predict on the test set\n",
    "y_pred_svm = svm_grid_search.predict(X_test)\n",
    "\n",
    "# Calculate metrics\n",
    "svm_precision = multiclass_precision(y_test, y_pred_svm)\n",
    "svm_recall = multiclass_recall(y_test, y_pred_svm)\n",
    "svm_f1 = multiclass_f1(y_test, y_pred_svm)\n",
    "svm_accuracy = accuracy_score(y_test, y_pred_svm)\n",
    "\n",
    "# Print the results\n",
    "print(f\"SVM Accuracy: {svm_accuracy}\")\n",
    "print(f\"SVM Precision: {svm_precision}\")\n",
    "print(f\"SVM Recall: {svm_recall}\")\n",
    "print(f\"SVM F1 Score: {svm_f1}\")"
   ]
  },
  {
   "cell_type": "markdown",
   "id": "1892cdbd",
   "metadata": {},
   "source": [
    "### RF"
   ]
  },
  {
   "cell_type": "code",
   "execution_count": 192,
   "id": "1aaed4d7",
   "metadata": {},
   "outputs": [
    {
     "name": "stdout",
     "output_type": "stream",
     "text": [
      "Random Forest Accuracy: 0.8894422310756972\n",
      "Random Forest Precision: [0.8837920489296636, 0.874439461883408, 0.8629107981220657, 0.964769647696477, 0.9121338912133892]\n",
      "Random Forest Recall: [0.869172932330827, 0.8387096774193549, 0.9562955254942768, 0.8298368298368298, 0.8861788617886179]\n",
      "Random Forest F1 Score: None\n"
     ]
    }
   ],
   "source": [
    "from sklearn.ensemble import RandomForestClassifier\n",
    "\n",
    "# Define the Random Forest pipeline\n",
    "rf_pipeline = make_pipeline(\n",
    "    TfidfVectorizer(),\n",
    "    RandomForestClassifier()\n",
    ")\n",
    "\n",
    "# Define the parameter grid for Grid Search\n",
    "rf_param_grid = {\n",
    "    'randomforestclassifier__n_estimators': [100, 200, 300],\n",
    "    'randomforestclassifier__max_depth': [None, 10, 20],\n",
    "    'randomforestclassifier__min_samples_split': [2, 5, 10]\n",
    "}\n",
    "\n",
    "# Perform Grid Search with cross-validation\n",
    "b= GridSearchCV(rf_pipeline, rf_param_grid, cv=5, scoring='accuracy')\n",
    "rf_grid_search.fit(X_train, y_train)\n",
    "\n",
    "# Predict on the test set\n",
    "y_pred_rf = rf_grid_search.predict(X_test)\n",
    "\n",
    "# Calculate metrics\n",
    "rf_precision = multiclass_precision(y_test, y_pred_rf)\n",
    "rf_recall = multiclass_recall(y_test, y_pred_rf)\n",
    "rf_f1 = multiclass_f1(y_test, y_pred_rf)\n",
    "rf_accuracy = accuracy_score(y_test, y_pred_rf)\n",
    "\n",
    "# Print the results\n",
    "print(f\"Random Forest Accuracy: {rf_accuracy}\")\n",
    "print(f\"Random Forest Precision: {rf_precision}\")\n",
    "print(f\"Random Forest Recall: {rf_recall}\")\n",
    "print(f\"Random Forest F1 Score: {rf_f1}\")"
   ]
  },
  {
   "cell_type": "code",
   "execution_count": 2,
   "id": "2f41ee37",
   "metadata": {},
   "outputs": [
    {
     "ename": "NameError",
     "evalue": "name 'rf_grid_search' is not defined",
     "output_type": "error",
     "traceback": [
      "\u001b[0;31m---------------------------------------------------------------------------\u001b[0m",
      "\u001b[0;31mNameError\u001b[0m                                 Traceback (most recent call last)",
      "Cell \u001b[0;32mIn[2], line 1\u001b[0m\n\u001b[0;32m----> 1\u001b[0m \u001b[43mrf_grid_search\u001b[49m\n",
      "\u001b[0;31mNameError\u001b[0m: name 'rf_grid_search' is not defined"
     ]
    }
   ],
   "source": [
    "rf_grid_search"
   ]
  },
  {
   "cell_type": "markdown",
   "id": "134832f1",
   "metadata": {},
   "source": [
    "### Comparison Table"
   ]
  },
  {
   "cell_type": "code",
   "execution_count": 197,
   "id": "e8338b34",
   "metadata": {
    "scrolled": true
   },
   "outputs": [
    {
     "data": {
      "text/html": [
       "<div>\n",
       "<style scoped>\n",
       "    .dataframe tbody tr th:only-of-type {\n",
       "        vertical-align: middle;\n",
       "    }\n",
       "\n",
       "    .dataframe tbody tr th {\n",
       "        vertical-align: top;\n",
       "    }\n",
       "\n",
       "    .dataframe thead tr th {\n",
       "        text-align: left;\n",
       "    }\n",
       "\n",
       "    .dataframe thead tr:last-of-type th {\n",
       "        text-align: right;\n",
       "    }\n",
       "</style>\n",
       "<table border=\"1\" class=\"dataframe\">\n",
       "  <thead>\n",
       "    <tr>\n",
       "      <th></th>\n",
       "      <th>Accuracy</th>\n",
       "      <th colspan=\"5\" halign=\"left\">Precision</th>\n",
       "      <th colspan=\"5\" halign=\"left\">Recall</th>\n",
       "    </tr>\n",
       "    <tr>\n",
       "      <th></th>\n",
       "      <th></th>\n",
       "      <th>Class 0</th>\n",
       "      <th>Class 1</th>\n",
       "      <th>Class 2</th>\n",
       "      <th>Class 3</th>\n",
       "      <th>Class 4</th>\n",
       "      <th>Class 0</th>\n",
       "      <th>Class 1</th>\n",
       "      <th>Class 2</th>\n",
       "      <th>Class 3</th>\n",
       "      <th>Class 4</th>\n",
       "    </tr>\n",
       "    <tr>\n",
       "      <th>Model</th>\n",
       "      <th></th>\n",
       "      <th></th>\n",
       "      <th></th>\n",
       "      <th></th>\n",
       "      <th></th>\n",
       "      <th></th>\n",
       "      <th></th>\n",
       "      <th></th>\n",
       "      <th></th>\n",
       "      <th></th>\n",
       "      <th></th>\n",
       "    </tr>\n",
       "  </thead>\n",
       "  <tbody>\n",
       "    <tr>\n",
       "      <th>Naive Bayes</th>\n",
       "      <td>0.854582</td>\n",
       "      <td>0.849398</td>\n",
       "      <td>0.894608</td>\n",
       "      <td>0.810981</td>\n",
       "      <td>0.935754</td>\n",
       "      <td>0.868365</td>\n",
       "      <td>0.848120</td>\n",
       "      <td>0.784946</td>\n",
       "      <td>0.937565</td>\n",
       "      <td>0.780886</td>\n",
       "      <td>0.831301</td>\n",
       "    </tr>\n",
       "    <tr>\n",
       "      <th>Random Forest</th>\n",
       "      <td>0.889442</td>\n",
       "      <td>0.883792</td>\n",
       "      <td>0.874439</td>\n",
       "      <td>0.862911</td>\n",
       "      <td>0.964770</td>\n",
       "      <td>0.912134</td>\n",
       "      <td>0.869173</td>\n",
       "      <td>0.838710</td>\n",
       "      <td>0.956296</td>\n",
       "      <td>0.829837</td>\n",
       "      <td>0.886179</td>\n",
       "    </tr>\n",
       "    <tr>\n",
       "      <th>SVM</th>\n",
       "      <td>0.909695</td>\n",
       "      <td>0.904690</td>\n",
       "      <td>0.893478</td>\n",
       "      <td>0.888145</td>\n",
       "      <td>0.976190</td>\n",
       "      <td>0.927195</td>\n",
       "      <td>0.899248</td>\n",
       "      <td>0.883871</td>\n",
       "      <td>0.966701</td>\n",
       "      <td>0.860140</td>\n",
       "      <td>0.880081</td>\n",
       "    </tr>\n",
       "  </tbody>\n",
       "</table>\n",
       "</div>"
      ],
      "text/plain": [
       "               Accuracy Precision                                          \\\n",
       "                          Class 0   Class 1   Class 2   Class 3   Class 4   \n",
       "Model                                                                       \n",
       "Naive Bayes    0.854582  0.849398  0.894608  0.810981  0.935754  0.868365   \n",
       "Random Forest  0.889442  0.883792  0.874439  0.862911  0.964770  0.912134   \n",
       "SVM            0.909695  0.904690  0.893478  0.888145  0.976190  0.927195   \n",
       "\n",
       "                 Recall                                          \n",
       "                Class 0   Class 1   Class 2   Class 3   Class 4  \n",
       "Model                                                            \n",
       "Naive Bayes    0.848120  0.784946  0.937565  0.780886  0.831301  \n",
       "Random Forest  0.869173  0.838710  0.956296  0.829837  0.886179  \n",
       "SVM            0.899248  0.883871  0.966701  0.860140  0.880081  "
      ]
     },
     "execution_count": 197,
     "metadata": {},
     "output_type": "execute_result"
    }
   ],
   "source": [
    "import pandas as pd\n",
    "\n",
    "# Initialize the data for the table\n",
    "data = {\n",
    "    'Model': ['Naive Bayes', 'Random Forest', 'SVM'],\n",
    "    'Accuracy': [nb_accuracy, rf_accuracy, svm_accuracy],\n",
    "    'Precision_0': [nb_precision[0], rf_precision[0], svm_precision[0]],\n",
    "    'Precision_1': [nb_precision[1], rf_precision[1], svm_precision[1]],\n",
    "    'Precision_2': [nb_precision[2], rf_precision[2], svm_precision[2]],\n",
    "    'Precision_3': [nb_precision[3], rf_precision[3], svm_precision[3]],\n",
    "    'Precision_4': [nb_precision[4], rf_precision[4], svm_precision[4]],\n",
    "    'Recall_0': [nb_recall[0], rf_recall[0], svm_recall[0]],\n",
    "    'Recall_1': [nb_recall[1], rf_recall[1], svm_recall[1]],\n",
    "    'Recall_2': [nb_recall[2], rf_recall[2], svm_recall[2]],\n",
    "    'Recall_3': [nb_recall[3], rf_recall[3], svm_recall[3]],\n",
    "    'Recall_4': [nb_recall[4], rf_recall[4], svm_recall[4]]\n",
    "}\n",
    "\n",
    "# Convert the dictionary to a DataFrame\n",
    "comparison_table = pd.DataFrame(data)\n",
    "\n",
    "# Reformat the table to have the desired layout\n",
    "comparison_table = comparison_table.set_index('Model')\n",
    "comparison_table.columns = pd.MultiIndex.from_tuples([\n",
    "    ('Accuracy', ''), \n",
    "    ('Precision', 'Class 0'), ('Precision', 'Class 1'), ('Precision', 'Class 2'), ('Precision', 'Class 3'), ('Precision', 'Class 4'),\n",
    "    ('Recall', 'Class 0'), ('Recall', 'Class 1'), ('Recall', 'Class 2'), ('Recall', 'Class 3'), ('Recall', 'Class 4')\n",
    "])\n",
    "\n",
    "# Display the table\n",
    "comparison_table\n"
   ]
  }
 ],
 "metadata": {
  "kernelspec": {
   "display_name": "Python 3 (ipykernel)",
   "language": "python",
   "name": "python3"
  },
  "language_info": {
   "codemirror_mode": {
    "name": "ipython",
    "version": 3
   },
   "file_extension": ".py",
   "mimetype": "text/x-python",
   "name": "python",
   "nbconvert_exporter": "python",
   "pygments_lexer": "ipython3",
   "version": "3.10.6"
  },
  "toc": {
   "base_numbering": 1,
   "nav_menu": {},
   "number_sections": true,
   "sideBar": true,
   "skip_h1_title": false,
   "title_cell": "Table of Contents",
   "title_sidebar": "Contents",
   "toc_cell": false,
   "toc_position": {},
   "toc_section_display": true,
   "toc_window_display": false
  }
 },
 "nbformat": 4,
 "nbformat_minor": 5
}
